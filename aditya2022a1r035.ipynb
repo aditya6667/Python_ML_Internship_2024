{
 "cells": [
  {
   "cell_type": "code",
   "execution_count": 9,
   "id": "afddc8e4",
   "metadata": {},
   "outputs": [
    {
     "name": "stdout",
     "output_type": "stream",
     "text": [
      "                      *    \n",
      "                 *    *    \n",
      "            *    *    *    \n",
      "       *    *    *    *    \n",
      "  *    *    *    *    *    \n"
     ]
    }
   ],
   "source": [
    "row = 5\n",
    "\n",
    "\n",
    "spaces = 22\n",
    "\n",
    "\n",
    "for i in range(row):\n",
    "    \n",
    "    print(\" \" * spaces, end=\"\")\n",
    "    \n",
    "    for j in range(i + 1):\n",
    "        print(\"*\", end=\"    \")\n",
    "    print()    spaces -= 5"
   ]
  },
  {
   "cell_type": "code",
   "execution_count": 11,
   "id": "9d58e4ce",
   "metadata": {},
   "outputs": [
    {
     "name": "stdout",
     "output_type": "stream",
     "text": [
      "Enter the first number: 100\n",
      "Enter the second number: 100\n",
      "The result of 100.0 divided by 100.0 is 1.0\n"
     ]
    }
   ],
   "source": [
    "def get_number(prompt):\n",
    "    while True:\n",
    "        try:\n",
    "            number = float(input(prompt))\n",
    "            return number\n",
    "        except ValueError:\n",
    "            print(\"Invalid input. Please enter a valid number.\")\n",
    "\n",
    "def divide_numbers():\n",
    "    while True:\n",
    "        try:\n",
    "            num1 = get_number(\"Enter the first number: \")\n",
    "            num2 = get_number(\"Enter the second number: \")\n",
    "            result = num1 / num2\n",
    "            print(f\"The result of {num1} divided by {num2} is {result}\")\n",
    "            break\n",
    "        except ZeroDivisionError:\n",
    "            print(\"Division by zero is not allowed. Please enter a non-zero second number.\")\n",
    "if __name__ == \"__main__\":\n",
    "    divide_numbers()"
   ]
  },
  {
   "cell_type": "code",
   "execution_count": null,
   "id": "7d4f6e03",
   "metadata": {},
   "outputs": [],
   "source": []
  }
 ],
 "metadata": {
  "kernelspec": {
   "display_name": "Python 3 (ipykernel)",
   "language": "python",
   "name": "python3"
  },
  "language_info": {
   "codemirror_mode": {
    "name": "ipython",
    "version": 3
   },
   "file_extension": ".py",
   "mimetype": "text/x-python",
   "name": "python",
   "nbconvert_exporter": "python",
   "pygments_lexer": "ipython3",
   "version": "3.9.12"
  }
 },
 "nbformat": 4,
 "nbformat_minor": 5
}
